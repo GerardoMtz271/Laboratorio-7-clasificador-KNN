{
 "cells": [
  {
   "cell_type": "code",
   "execution_count": 1,
   "id": "a91b957f-16cb-4102-8533-564d5902e198",
   "metadata": {},
   "outputs": [],
   "source": [
    "import numpy as np\n",
    "import pandas as pd\n",
    "from sklearn.model_selection import train_test_split, cross_val_score, StratifiedKFold, LeaveOneOut\n",
    "from sklearn.metrics import accuracy_score, confusion_matrix, classification_report\n",
    "from sklearn.neighbors import KNeighborsClassifier\n",
    "from sklearn.datasets import load_iris, load_wine, load_breast_cancer\n"
   ]
  },
  {
   "cell_type": "code",
   "execution_count": 2,
   "id": "c993361e-163b-4d69-9823-98c42c0455fd",
   "metadata": {},
   "outputs": [],
   "source": [
    "# Cargar los datasets\n",
    "datasets = {\n",
    "    \"Iris\": load_iris(),\n",
    "    \"Wine\": load_wine(),\n",
    "    \"Breast Cancer\": load_breast_cancer()\n",
    "}\n"
   ]
  },
  {
   "cell_type": "code",
   "execution_count": 3,
   "id": "87c07681-efad-46a4-b31f-a2d27c858d86",
   "metadata": {},
   "outputs": [],
   "source": [
    "# Hold-Out 70/30 Estratificado\n",
    "def hold_out_validation(data, k):\n",
    "    X, y = data.data, data.target\n",
    "    X_train, X_test, y_train, y_test = train_test_split(X, y, test_size=0.3, stratify=y, random_state=42)\n",
    "\n",
    "    # Clasificador KNN\n",
    "    knn = KNeighborsClassifier(n_neighbors=k)\n",
    "    knn.fit(X_train, y_train)\n",
    "    \n",
    "    # Predicción y métricas\n",
    "    y_pred = knn.predict(X_test)\n",
    "    acc = accuracy_score(y_test, y_pred)\n",
    "    cm = confusion_matrix(y_test, y_pred)\n",
    "    \n",
    "    print(\"Accuracy:\", acc)\n",
    "    print(\"Matriz de Confusión:\\n\", cm)\n"
   ]
  },
  {
   "cell_type": "code",
   "execution_count": 4,
   "id": "64c385d0-7494-4872-b040-0d6faf907098",
   "metadata": {},
   "outputs": [],
   "source": [
    "# 10-Fold Cross-Validation Estratificado\n",
    "def cross_validation(data, k):\n",
    "    X, y = data.data, data.target\n",
    "    skf = StratifiedKFold(n_splits=10, shuffle=True, random_state=42)\n",
    "\n",
    "    # Clasificador KNN\n",
    "    knn = KNeighborsClassifier(n_neighbors=k)\n",
    "    scores = cross_val_score(knn, X, y, cv=skf)\n",
    "\n",
    "    print(\"Accuracy promedio en 10-Fold:\", np.mean(scores))\n"
   ]
  },
  {
   "cell_type": "code",
   "execution_count": 5,
   "id": "5d9c5587-d436-46aa-8a05-804ea006cc89",
   "metadata": {},
   "outputs": [],
   "source": [
    "# Leave-One-Out (LOO)\n",
    "def leave_one_out(data, k):\n",
    "    X, y = data.data, data.target\n",
    "    loo = LeaveOneOut()\n",
    "\n",
    "    # Clasificador KNN\n",
    "    knn = KNeighborsClassifier(n_neighbors=k)\n",
    "    scores = cross_val_score(knn, X, y, cv=loo)\n",
    "\n",
    "    print(\"Accuracy promedio en LOO:\", np.mean(scores))\n"
   ]
  },
  {
   "cell_type": "code",
   "execution_count": 6,
   "id": "e6126cbd-e127-457c-ac2e-56f01aa26387",
   "metadata": {},
   "outputs": [],
   "source": [
    "# Elección del mejor valor de K\n",
    "def find_best_k(data, method=\"cross_val\"):\n",
    "    X, y = data.data, data.target\n",
    "    best_k, best_score = 0, 0\n",
    "    \n",
    "    for k in range(1, 21):\n",
    "        if method == \"cross_val\":\n",
    "            skf = StratifiedKFold(n_splits=10, shuffle=True, random_state=42)\n",
    "            knn = KNeighborsClassifier(n_neighbors=k)\n",
    "            score = np.mean(cross_val_score(knn, X, y, cv=skf))\n",
    "        elif method == \"hold_out\":\n",
    "            X_train, X_test, y_train, y_test = train_test_split(X, y, test_size=0.3, stratify=y, random_state=42)\n",
    "            knn = KNeighborsClassifier(n_neighbors=k)\n",
    "            knn.fit(X_train, y_train)\n",
    "            score = knn.score(X_test, y_test)\n",
    "\n",
    "        if score > best_score:\n",
    "            best_k, best_score = k, score\n",
    "    \n",
    "    print(f\"Mejor valor de K: {best_k} con Accuracy: {best_score}\")\n",
    "    return best_k\n"
   ]
  },
  {
   "cell_type": "code",
   "execution_count": 7,
   "id": "be28f42c-ddd1-4a00-84c1-8ab5e91019a3",
   "metadata": {},
   "outputs": [
    {
     "name": "stdout",
     "output_type": "stream",
     "text": [
      "\n",
      "--- Dataset: Iris ---\n",
      "\n",
      "Buscando mejor K con 10-Fold Cross Validation:\n",
      "Mejor valor de K: 17 con Accuracy: 0.9800000000000001\n",
      "\n",
      "Validación Hold-Out 70/30 Estratificado:\n",
      "Accuracy: 0.9555555555555556\n",
      "Matriz de Confusión:\n",
      " [[15  0  0]\n",
      " [ 0 14  1]\n",
      " [ 0  1 14]]\n",
      "\n",
      "Validación 10-Fold Cross-Validation Estratificado:\n",
      "Accuracy promedio en 10-Fold: 0.9800000000000001\n",
      "\n",
      "Validación Leave-One-Out:\n",
      "Accuracy promedio en LOO: 0.9733333333333334\n",
      "\n",
      "--- Dataset: Wine ---\n",
      "\n",
      "Buscando mejor K con 10-Fold Cross Validation:\n",
      "Mejor valor de K: 1 con Accuracy: 0.7300653594771241\n",
      "\n",
      "Validación Hold-Out 70/30 Estratificado:\n",
      "Accuracy: 0.7037037037037037\n",
      "Matriz de Confusión:\n",
      " [[14  3  1]\n",
      " [ 1 15  5]\n",
      " [ 1  5  9]]\n",
      "\n",
      "Validación 10-Fold Cross-Validation Estratificado:\n",
      "Accuracy promedio en 10-Fold: 0.7300653594771241\n",
      "\n",
      "Validación Leave-One-Out:\n",
      "Accuracy promedio en LOO: 0.7696629213483146\n",
      "\n",
      "--- Dataset: Breast Cancer ---\n",
      "\n",
      "Buscando mejor K con 10-Fold Cross Validation:\n"
     ]
    },
    {
     "name": "stderr",
     "output_type": "stream",
     "text": [
      "C:\\Users\\cap2268\\AppData\\Roaming\\Python\\Python312\\site-packages\\joblib\\externals\\loky\\backend\\context.py:136: UserWarning: Could not find the number of physical cores for the following reason:\n",
      "found 0 physical cores < 1\n",
      "Returning the number of logical cores instead. You can silence this warning by setting LOKY_MAX_CPU_COUNT to the number of cores you want to use.\n",
      "  warnings.warn(\n",
      "  File \"C:\\Users\\cap2268\\AppData\\Roaming\\Python\\Python312\\site-packages\\joblib\\externals\\loky\\backend\\context.py\", line 282, in _count_physical_cores\n",
      "    raise ValueError(f\"found {cpu_count_physical} physical cores < 1\")\n"
     ]
    },
    {
     "name": "stdout",
     "output_type": "stream",
     "text": [
      "Mejor valor de K: 12 con Accuracy: 0.9385025062656641\n",
      "\n",
      "Validación Hold-Out 70/30 Estratificado:\n",
      "Accuracy: 0.935672514619883\n",
      "Matriz de Confusión:\n",
      " [[ 57   7]\n",
      " [  4 103]]\n",
      "\n",
      "Validación 10-Fold Cross-Validation Estratificado:\n",
      "Accuracy promedio en 10-Fold: 0.9385025062656641\n",
      "\n",
      "Validación Leave-One-Out:\n",
      "Accuracy promedio en LOO: 0.9367311072056239\n"
     ]
    }
   ],
   "source": [
    "for name, data in datasets.items():\n",
    "    print(f\"\\n--- Dataset: {name} ---\")\n",
    "    \n",
    "    # Buscar mejor K usando Cross-Validation\n",
    "    print(\"\\nBuscando mejor K con 10-Fold Cross Validation:\")\n",
    "    best_k = find_best_k(data, method=\"cross_val\")\n",
    "    \n",
    "    # Hold-Out Validation\n",
    "    print(\"\\nValidación Hold-Out 70/30 Estratificado:\")\n",
    "    hold_out_validation(data, best_k)\n",
    "    \n",
    "    # 10-Fold Cross-Validation\n",
    "    print(\"\\nValidación 10-Fold Cross-Validation Estratificado:\")\n",
    "    cross_validation(data, best_k)\n",
    "    \n",
    "    # Leave-One-Out\n",
    "    print(\"\\nValidación Leave-One-Out:\")\n",
    "    leave_one_out(data, best_k)\n"
   ]
  }
 ],
 "metadata": {
  "kernelspec": {
   "display_name": "Python 3 (ipykernel)",
   "language": "python",
   "name": "python3"
  },
  "language_info": {
   "codemirror_mode": {
    "name": "ipython",
    "version": 3
   },
   "file_extension": ".py",
   "mimetype": "text/x-python",
   "name": "python",
   "nbconvert_exporter": "python",
   "pygments_lexer": "ipython3",
   "version": "3.12.4"
  }
 },
 "nbformat": 4,
 "nbformat_minor": 5
}
